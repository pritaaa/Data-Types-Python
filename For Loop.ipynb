{
 "cells": [
  {
   "cell_type": "markdown",
   "id": "827e6bec",
   "metadata": {},
   "source": [
    "# For Loop"
   ]
  },
  {
   "cell_type": "markdown",
   "id": "10bff953",
   "metadata": {},
   "source": [
    "With the for loop we can execute a set of statements, once for each item in a list, tuple, set etc.\n",
    "\n",
    "The for loop does not require an indexing variable to set beforehand."
   ]
  },
  {
   "cell_type": "code",
   "execution_count": 1,
   "id": "c78e72c2",
   "metadata": {},
   "outputs": [
    {
     "name": "stdout",
     "output_type": "stream",
     "text": [
      "letter P\n",
      "letter y\n",
      "letter t\n",
      "letter h\n",
      "letter o\n",
      "letter n\n"
     ]
    }
   ],
   "source": [
    "for i in 'Python':\n",
    "    print(\"letter {}\".format(i))"
   ]
  },
  {
   "cell_type": "code",
   "execution_count": 3,
   "id": "e0e0d26c",
   "metadata": {},
   "outputs": [
    {
     "name": "stdout",
     "output_type": "stream",
     "text": [
      "subject statistics\n",
      "subject management\n",
      "subject accountancy\n"
     ]
    }
   ],
   "source": [
    "# Example of looping over a list\n",
    "subject = ['statistics', 'management', 'accountancy']\n",
    "\n",
    "for i in subject:\n",
    "    print(\"subject {}\".format(i))"
   ]
  },
  {
   "cell_type": "code",
   "execution_count": 4,
   "id": "c5974431",
   "metadata": {},
   "outputs": [
    {
     "name": "stdout",
     "output_type": "stream",
     "text": [
      "apple\n",
      "banana\n",
      "cherry\n"
     ]
    }
   ],
   "source": [
    "fruits = (\"apple\", \"banana\", \"cherry\")\n",
    "\n",
    "for fruit in fruits:\n",
    "    print(fruit)"
   ]
  },
  {
   "cell_type": "markdown",
   "id": "a99a77fb",
   "metadata": {},
   "source": [
    "## Range Function"
   ]
  },
  {
   "cell_type": "markdown",
   "id": "6304053d",
   "metadata": {},
   "source": [
    "To loop through a set of code a specified number of times,we can use the range() function,\n",
    "\n",
    "The range() function returns a sequence of numbers, starting from 0 by default, and increments by 1 (by default), and ends at a specified number."
   ]
  },
  {
   "cell_type": "code",
   "execution_count": 5,
   "id": "5ec8cfe7",
   "metadata": {},
   "outputs": [
    {
     "name": "stdout",
     "output_type": "stream",
     "text": [
      "0\n",
      "1\n",
      "2\n",
      "3\n",
      "4\n"
     ]
    }
   ],
   "source": [
    "for i in range(5):\n",
    "    print(i)"
   ]
  },
  {
   "cell_type": "code",
   "execution_count": 6,
   "id": "da7704ad",
   "metadata": {},
   "outputs": [
    {
     "name": "stdout",
     "output_type": "stream",
     "text": [
      "2\n",
      "3\n",
      "4\n",
      "5\n",
      "6\n",
      "7\n"
     ]
    }
   ],
   "source": [
    "for i in range(2,8):\n",
    "    print(i)"
   ]
  },
  {
   "cell_type": "markdown",
   "id": "2e8f6791",
   "metadata": {},
   "source": [
    "#### Using nested for loops and the range() function in a single statement:"
   ]
  },
  {
   "cell_type": "code",
   "execution_count": 7,
   "id": "03b2e591",
   "metadata": {},
   "outputs": [
    {
     "name": "stdout",
     "output_type": "stream",
     "text": [
      "* * * * \n",
      "* * * \n",
      "* * \n",
      "* \n"
     ]
    }
   ],
   "source": [
    "for row in range(4):\n",
    "    for col in range(4):\n",
    "        if row == 0 and col <= 3:\n",
    "            print(\"*\", end=\" \")\n",
    "        elif row == 1 and col <= 2:\n",
    "            print(\"*\", end=\" \")\n",
    "        elif row == 2 and col <= 1:\n",
    "            print(\"*\", end=\" \")\n",
    "        elif row == 3 and col == 0:\n",
    "            print(\"*\", end=\" \")\n",
    "    print()"
   ]
  }
 ],
 "metadata": {
  "kernelspec": {
   "display_name": "Python 3 (ipykernel)",
   "language": "python",
   "name": "python3"
  },
  "language_info": {
   "codemirror_mode": {
    "name": "ipython",
    "version": 3
   },
   "file_extension": ".py",
   "mimetype": "text/x-python",
   "name": "python",
   "nbconvert_exporter": "python",
   "pygments_lexer": "ipython3",
   "version": "3.11.4"
  }
 },
 "nbformat": 4,
 "nbformat_minor": 5
}
