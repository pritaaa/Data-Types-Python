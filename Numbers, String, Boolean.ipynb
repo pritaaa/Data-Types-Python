{
 "cells": [
  {
   "cell_type": "markdown",
   "id": "92acd70d",
   "metadata": {},
   "source": [
    "### Python's most commonly used data types:\n",
    "    - Numeric\n",
    "    - String\n",
    "    - Boolean\n",
    "    "
   ]
  },
  {
   "cell_type": "markdown",
   "id": "14b1fd24",
   "metadata": {},
   "source": [
    "- Numeric : int, float, complex"
   ]
  },
  {
   "cell_type": "code",
   "execution_count": 1,
   "id": "ed0fa37b",
   "metadata": {},
   "outputs": [],
   "source": [
    "a = 10"
   ]
  },
  {
   "cell_type": "code",
   "execution_count": 2,
   "id": "ac53e10b",
   "metadata": {},
   "outputs": [
    {
     "data": {
      "text/plain": [
       "int"
      ]
     },
     "execution_count": 2,
     "metadata": {},
     "output_type": "execute_result"
    }
   ],
   "source": [
    "type(a)"
   ]
  },
  {
   "cell_type": "code",
   "execution_count": 3,
   "id": "03be54b7",
   "metadata": {},
   "outputs": [],
   "source": [
    "b = 4.5"
   ]
  },
  {
   "cell_type": "code",
   "execution_count": 4,
   "id": "9c681b9b",
   "metadata": {},
   "outputs": [
    {
     "data": {
      "text/plain": [
       "float"
      ]
     },
     "execution_count": 4,
     "metadata": {},
     "output_type": "execute_result"
    }
   ],
   "source": [
    "type(b)"
   ]
  },
  {
   "cell_type": "markdown",
   "id": "436796ca",
   "metadata": {},
   "source": [
    "Complex numbers are written with a \"j\" as the imaginary part. "
   ]
  },
  {
   "cell_type": "code",
   "execution_count": 6,
   "id": "11ca0731",
   "metadata": {},
   "outputs": [],
   "source": [
    "c=3+2j"
   ]
  },
  {
   "cell_type": "code",
   "execution_count": 7,
   "id": "e45cfb46",
   "metadata": {},
   "outputs": [
    {
     "data": {
      "text/plain": [
       "complex"
      ]
     },
     "execution_count": 7,
     "metadata": {},
     "output_type": "execute_result"
    }
   ],
   "source": [
    "type(c)"
   ]
  },
  {
   "cell_type": "markdown",
   "id": "19fc767c",
   "metadata": {},
   "source": [
    "- String"
   ]
  },
  {
   "cell_type": "code",
   "execution_count": 8,
   "id": "50957b2d",
   "metadata": {},
   "outputs": [],
   "source": [
    "y = \"Studi Independent by : \\tKampus Merdeka Batch \\t5 \\nData Analyst Myedusolve\""
   ]
  },
  {
   "cell_type": "code",
   "execution_count": 9,
   "id": "88d56e7b",
   "metadata": {},
   "outputs": [
    {
     "data": {
      "text/plain": [
       "str"
      ]
     },
     "execution_count": 9,
     "metadata": {},
     "output_type": "execute_result"
    }
   ],
   "source": [
    "type(y)"
   ]
  },
  {
   "cell_type": "code",
   "execution_count": 11,
   "id": "9a6da96c",
   "metadata": {},
   "outputs": [
    {
     "name": "stdout",
     "output_type": "stream",
     "text": [
      "Studi Independent by : \tKampus Merdeka Batch \t5 \n",
      "Data Analyst Myedusolve\n"
     ]
    }
   ],
   "source": [
    "print(y)"
   ]
  },
  {
   "cell_type": "markdown",
   "id": "09aa2210",
   "metadata": {},
   "source": [
    "Strings in python are surrounded by either single quotation marks (' '), or double quotation marks(\" \")."
   ]
  },
  {
   "cell_type": "code",
   "execution_count": 12,
   "id": "9c146c4c",
   "metadata": {},
   "outputs": [
    {
     "name": "stdout",
     "output_type": "stream",
     "text": [
      "Hello\n"
     ]
    }
   ],
   "source": [
    "x = 'Hello'\n",
    "print(x)"
   ]
  },
  {
   "cell_type": "code",
   "execution_count": 13,
   "id": "968149ae",
   "metadata": {},
   "outputs": [
    {
     "name": "stdout",
     "output_type": "stream",
     "text": [
      "Hello\n"
     ]
    }
   ],
   "source": [
    "o = \"Hello\"\n",
    "print(o)"
   ]
  },
  {
   "cell_type": "code",
   "execution_count": 14,
   "id": "cff42fb0",
   "metadata": {},
   "outputs": [
    {
     "name": "stdout",
     "output_type": "stream",
     "text": [
      "Hello\n",
      "World\n"
     ]
    }
   ],
   "source": [
    "s = \"\"\"Hello\n",
    "World\"\"\"\n",
    "\n",
    "print(s)"
   ]
  },
  {
   "cell_type": "markdown",
   "id": "bbe0bf6a",
   "metadata": {},
   "source": [
    "- Boolean"
   ]
  },
  {
   "cell_type": "markdown",
   "id": "083ba57e",
   "metadata": {},
   "source": [
    "When you compare two values, the expression is evaluated and Python returns the Boolean answer."
   ]
  },
  {
   "cell_type": "code",
   "execution_count": 15,
   "id": "99993072",
   "metadata": {},
   "outputs": [
    {
     "data": {
      "text/plain": [
       "False"
      ]
     },
     "execution_count": 15,
     "metadata": {},
     "output_type": "execute_result"
    }
   ],
   "source": [
    "2 > 5"
   ]
  },
  {
   "cell_type": "code",
   "execution_count": 16,
   "id": "6d3a4f3b",
   "metadata": {},
   "outputs": [
    {
     "data": {
      "text/plain": [
       "True"
      ]
     },
     "execution_count": 16,
     "metadata": {},
     "output_type": "execute_result"
    }
   ],
   "source": [
    "3 < 8"
   ]
  },
  {
   "cell_type": "code",
   "execution_count": 17,
   "id": "e03ca022",
   "metadata": {},
   "outputs": [
    {
     "data": {
      "text/plain": [
       "False"
      ]
     },
     "execution_count": 17,
     "metadata": {},
     "output_type": "execute_result"
    }
   ],
   "source": [
    "0 == 3"
   ]
  },
  {
   "cell_type": "code",
   "execution_count": 18,
   "id": "ae44f02f",
   "metadata": {},
   "outputs": [
    {
     "data": {
      "text/plain": [
       "True"
      ]
     },
     "execution_count": 18,
     "metadata": {},
     "output_type": "execute_result"
    }
   ],
   "source": [
    "3 != 4"
   ]
  }
 ],
 "metadata": {
  "kernelspec": {
   "display_name": "Python 3 (ipykernel)",
   "language": "python",
   "name": "python3"
  },
  "language_info": {
   "codemirror_mode": {
    "name": "ipython",
    "version": 3
   },
   "file_extension": ".py",
   "mimetype": "text/x-python",
   "name": "python",
   "nbconvert_exporter": "python",
   "pygments_lexer": "ipython3",
   "version": "3.11.4"
  }
 },
 "nbformat": 4,
 "nbformat_minor": 5
}
