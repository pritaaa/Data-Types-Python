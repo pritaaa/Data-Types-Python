{
 "cells": [
  {
   "cell_type": "markdown",
   "id": "0ac8a88a",
   "metadata": {},
   "source": [
    "# Set"
   ]
  },
  {
   "cell_type": "markdown",
   "id": "58fb220c",
   "metadata": {},
   "source": [
    "•\tSets are used to store multiple items in a single variable.\n",
    "\n",
    "•\tSet items are unordered, unchangeable, unindexed and do not allow duplicate values.\n",
    "\n",
    "•\tSet items are unchangeable, but can remove items and add new items.\n",
    "\n",
    "•\tSets are written with curly brackets{ }.\n"
   ]
  },
  {
   "cell_type": "code",
   "execution_count": 6,
   "id": "ba1edd3a",
   "metadata": {},
   "outputs": [],
   "source": [
    "a ={3,3,3,4,4,4,5,5,5,6,7,8}"
   ]
  },
  {
   "cell_type": "code",
   "execution_count": 7,
   "id": "e3963402",
   "metadata": {},
   "outputs": [
    {
     "name": "stdout",
     "output_type": "stream",
     "text": [
      "{3, 4, 5, 6, 7, 8}\n"
     ]
    }
   ],
   "source": [
    "print (a)\n",
    "\n",
    "#set does not allow duplicates"
   ]
  },
  {
   "cell_type": "code",
   "execution_count": 8,
   "id": "dd3d85ab",
   "metadata": {},
   "outputs": [
    {
     "ename": "TypeError",
     "evalue": "'set' object is not subscriptable",
     "output_type": "error",
     "traceback": [
      "\u001b[1;31m---------------------------------------------------------------------------\u001b[0m",
      "\u001b[1;31mTypeError\u001b[0m                                 Traceback (most recent call last)",
      "Cell \u001b[1;32mIn[8], line 1\u001b[0m\n\u001b[1;32m----> 1\u001b[0m \u001b[38;5;28mprint\u001b[39m (a[\u001b[38;5;241m1\u001b[39m])\n",
      "\u001b[1;31mTypeError\u001b[0m: 'set' object is not subscriptable"
     ]
    }
   ],
   "source": [
    "print (a[1])\n",
    "\n",
    "#set items is unindexed"
   ]
  },
  {
   "cell_type": "markdown",
   "id": "1e1f2f82",
   "metadata": {},
   "source": [
    "pop()\n",
    "\n",
    "Removes an element from the set"
   ]
  },
  {
   "cell_type": "code",
   "execution_count": 9,
   "id": "30e71e9d",
   "metadata": {},
   "outputs": [
    {
     "name": "stdout",
     "output_type": "stream",
     "text": [
      "{4, 5, 6, 7, 8}\n"
     ]
    }
   ],
   "source": [
    "a.pop()\n",
    "print(a)"
   ]
  },
  {
   "cell_type": "markdown",
   "id": "99a2d186",
   "metadata": {},
   "source": [
    "remove()\n",
    "\n",
    "Removes the specified element"
   ]
  },
  {
   "cell_type": "code",
   "execution_count": 10,
   "id": "53a07c20",
   "metadata": {},
   "outputs": [
    {
     "name": "stdout",
     "output_type": "stream",
     "text": [
      "{4, 5, 7, 8}\n"
     ]
    }
   ],
   "source": [
    "a.remove(6)\n",
    "print(a)"
   ]
  },
  {
   "cell_type": "markdown",
   "id": "82ce1435",
   "metadata": {},
   "source": [
    "union() \n",
    "\n",
    "Return a set containing the union of sets. set1.union{set2,set3,....}"
   ]
  },
  {
   "cell_type": "code",
   "execution_count": 12,
   "id": "e4619c34",
   "metadata": {},
   "outputs": [],
   "source": [
    "b = {1, 2, 3, 4}"
   ]
  },
  {
   "cell_type": "code",
   "execution_count": 13,
   "id": "823a8468",
   "metadata": {},
   "outputs": [],
   "source": [
    "c = {4, 5, 6}"
   ]
  },
  {
   "cell_type": "code",
   "execution_count": 14,
   "id": "20046725",
   "metadata": {},
   "outputs": [
    {
     "data": {
      "text/plain": [
       "{1, 2, 3, 4, 5, 6}"
      ]
     },
     "execution_count": 14,
     "metadata": {},
     "output_type": "execute_result"
    }
   ],
   "source": [
    "b.union(c)"
   ]
  },
  {
   "cell_type": "markdown",
   "id": "eb4a2d7b",
   "metadata": {},
   "source": [
    "intersection()\n",
    "\n",
    "Returns a set, that is the intersection of two other sets. set1.intersection{set2,set3,....}"
   ]
  },
  {
   "cell_type": "code",
   "execution_count": 16,
   "id": "abb2a772",
   "metadata": {},
   "outputs": [],
   "source": [
    "d = {7, 8, 9, 10, 11, 12, 13}"
   ]
  },
  {
   "cell_type": "code",
   "execution_count": 17,
   "id": "3d375386",
   "metadata": {},
   "outputs": [],
   "source": [
    "e = {10, 12, 13, 14, 15}"
   ]
  },
  {
   "cell_type": "code",
   "execution_count": 18,
   "id": "50b39122",
   "metadata": {},
   "outputs": [
    {
     "data": {
      "text/plain": [
       "{10, 12, 13}"
      ]
     },
     "execution_count": 18,
     "metadata": {},
     "output_type": "execute_result"
    }
   ],
   "source": [
    "d.intersection(e)"
   ]
  }
 ],
 "metadata": {
  "kernelspec": {
   "display_name": "Python 3 (ipykernel)",
   "language": "python",
   "name": "python3"
  },
  "language_info": {
   "codemirror_mode": {
    "name": "ipython",
    "version": 3
   },
   "file_extension": ".py",
   "mimetype": "text/x-python",
   "name": "python",
   "nbconvert_exporter": "python",
   "pygments_lexer": "ipython3",
   "version": "3.11.4"
  }
 },
 "nbformat": 4,
 "nbformat_minor": 5
}
