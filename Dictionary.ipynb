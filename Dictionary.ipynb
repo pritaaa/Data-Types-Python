{
 "cells": [
  {
   "cell_type": "markdown",
   "id": "50bd13a1",
   "metadata": {},
   "source": [
    "# Dictionary"
   ]
  },
  {
   "cell_type": "markdown",
   "id": "46f05a08",
   "metadata": {},
   "source": [
    "•\tDictionaries are used to store data values in key:value pairs.\n",
    "\n",
    "•\tDictionary items are ordered, changeable, and does not allow duplicates.\n",
    "\n",
    "•\tDictionary items are presented in key:value pairs, and can be referred to by using the key name.\n",
    "\n",
    "•\tDictionaries are written with curly brackets { }, and have keys and values"
   ]
  },
  {
   "cell_type": "code",
   "execution_count": 1,
   "id": "f9121921",
   "metadata": {},
   "outputs": [],
   "source": [
    "a = {\"nama\":\"Nam Do San\", \"usia\":25}"
   ]
  },
  {
   "cell_type": "code",
   "execution_count": 4,
   "id": "a3476858",
   "metadata": {},
   "outputs": [
    {
     "data": {
      "text/plain": [
       "'Nam Do San'"
      ]
     },
     "execution_count": 4,
     "metadata": {},
     "output_type": "execute_result"
    }
   ],
   "source": [
    "a[\"nama\"]"
   ]
  },
  {
   "cell_type": "code",
   "execution_count": 5,
   "id": "a1a966f5",
   "metadata": {},
   "outputs": [
    {
     "data": {
      "text/plain": [
       "25"
      ]
     },
     "execution_count": 5,
     "metadata": {},
     "output_type": "execute_result"
    }
   ],
   "source": [
    "a[\"usia\"]"
   ]
  },
  {
   "cell_type": "code",
   "execution_count": 6,
   "id": "c77be48b",
   "metadata": {},
   "outputs": [
    {
     "data": {
      "text/plain": [
       "dict"
      ]
     },
     "execution_count": 6,
     "metadata": {},
     "output_type": "execute_result"
    }
   ],
   "source": [
    "type(a)"
   ]
  },
  {
   "cell_type": "code",
   "execution_count": 9,
   "id": "76f65faf",
   "metadata": {},
   "outputs": [
    {
     "ename": "KeyError",
     "evalue": "0",
     "output_type": "error",
     "traceback": [
      "\u001b[1;31m---------------------------------------------------------------------------\u001b[0m",
      "\u001b[1;31mKeyError\u001b[0m                                  Traceback (most recent call last)",
      "Cell \u001b[1;32mIn[9], line 1\u001b[0m\n\u001b[1;32m----> 1\u001b[0m a[\u001b[38;5;241m0\u001b[39m]\n",
      "\u001b[1;31mKeyError\u001b[0m: 0"
     ]
    }
   ],
   "source": [
    "a[0]\n",
    "\n",
    "#Dict can be referred to by using the key name."
   ]
  },
  {
   "cell_type": "code",
   "execution_count": 12,
   "id": "302e88f7",
   "metadata": {},
   "outputs": [],
   "source": [
    "b = {\"Group\" : 3, \"Members\" : [\"Zila\" ,\"Prita\", \"Ryan\", \"Lita\", \"Diva\"] }"
   ]
  },
  {
   "cell_type": "code",
   "execution_count": 13,
   "id": "db9033b3",
   "metadata": {},
   "outputs": [
    {
     "data": {
      "text/plain": [
       "3"
      ]
     },
     "execution_count": 13,
     "metadata": {},
     "output_type": "execute_result"
    }
   ],
   "source": [
    "b[\"Group\"]"
   ]
  },
  {
   "cell_type": "code",
   "execution_count": 14,
   "id": "e38b8150",
   "metadata": {},
   "outputs": [
    {
     "data": {
      "text/plain": [
       "'Prita'"
      ]
     },
     "execution_count": 14,
     "metadata": {},
     "output_type": "execute_result"
    }
   ],
   "source": [
    "b[\"Members\"][1]"
   ]
  }
 ],
 "metadata": {
  "kernelspec": {
   "display_name": "Python 3 (ipykernel)",
   "language": "python",
   "name": "python3"
  },
  "language_info": {
   "codemirror_mode": {
    "name": "ipython",
    "version": 3
   },
   "file_extension": ".py",
   "mimetype": "text/x-python",
   "name": "python",
   "nbconvert_exporter": "python",
   "pygments_lexer": "ipython3",
   "version": "3.11.4"
  }
 },
 "nbformat": 4,
 "nbformat_minor": 5
}
