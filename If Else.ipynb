{
 "cells": [
  {
   "cell_type": "markdown",
   "id": "55cd7a47",
   "metadata": {},
   "source": [
    "# IF"
   ]
  },
  {
   "cell_type": "code",
   "execution_count": 1,
   "id": "e3965bce",
   "metadata": {},
   "outputs": [
    {
     "name": "stdout",
     "output_type": "stream",
     "text": [
      "yes, my name is Prita\n"
     ]
    }
   ],
   "source": [
    "name = \"Prita\"\n",
    "\n",
    "if name:\n",
    "    print(\"yes, my name is {}\".format(name))"
   ]
  },
  {
   "cell_type": "code",
   "execution_count": 2,
   "id": "a58a5ff5",
   "metadata": {},
   "outputs": [
    {
     "name": "stdout",
     "output_type": "stream",
     "text": [
      "b is greater than a \n"
     ]
    }
   ],
   "source": [
    "a=33\n",
    "b=200\n",
    "\n",
    "if b>a :\n",
    "    print(\"b is greater than a \")"
   ]
  },
  {
   "cell_type": "markdown",
   "id": "e7f1aab4",
   "metadata": {},
   "source": [
    "# IF ELSE"
   ]
  },
  {
   "cell_type": "code",
   "execution_count": 4,
   "id": "3dd99496",
   "metadata": {},
   "outputs": [
    {
     "name": "stdout",
     "output_type": "stream",
     "text": [
      "age: 20\n"
     ]
    }
   ],
   "source": [
    "age = int(input(\"age: \"))"
   ]
  },
  {
   "cell_type": "code",
   "execution_count": 5,
   "id": "b2c014a8",
   "metadata": {},
   "outputs": [
    {
     "name": "stdout",
     "output_type": "stream",
     "text": [
      "age: 20\n",
      "adult\n"
     ]
    }
   ],
   "source": [
    "age = int(input(\"age: \" ))\n",
    "\n",
    "if age >=18:\n",
    "    print(\"adult\")\n",
    "else :\n",
    "    print(\"teenager\")"
   ]
  },
  {
   "cell_type": "code",
   "execution_count": 6,
   "id": "fadd2bab",
   "metadata": {},
   "outputs": [
    {
     "name": "stdout",
     "output_type": "stream",
     "text": [
      "input bmi : 18\n",
      "extremely fat\n"
     ]
    }
   ],
   "source": [
    "bmi = float(input(\"input bmi : \"))\n",
    "\n",
    "if bmi <= 17.0:\n",
    "    print(\"extremely thin\".format(bmi))\n",
    "elif 17.0 < bmi >= 18.5 :\n",
    "    print(\"thin\".format(bmi))\n",
    "elif 18.5 < bmi >= 25.0 :\n",
    "    print(\"normal\".format(bmi))\n",
    "elif 25.0 < bmi >= 27.0 :\n",
    "    print(\"fat\".format(bmi))\n",
    "else : \n",
    "    print(\"extremely fat\".format(bmi))"
   ]
  }
 ],
 "metadata": {
  "kernelspec": {
   "display_name": "Python 3 (ipykernel)",
   "language": "python",
   "name": "python3"
  },
  "language_info": {
   "codemirror_mode": {
    "name": "ipython",
    "version": 3
   },
   "file_extension": ".py",
   "mimetype": "text/x-python",
   "name": "python",
   "nbconvert_exporter": "python",
   "pygments_lexer": "ipython3",
   "version": "3.11.4"
  }
 },
 "nbformat": 4,
 "nbformat_minor": 5
}
